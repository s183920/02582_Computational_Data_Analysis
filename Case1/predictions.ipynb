{
 "cells": [
  {
   "cell_type": "code",
   "execution_count": 1,
   "metadata": {},
   "outputs": [],
   "source": [
    "import dill as pickle\n",
    "import matplotlib.pyplot as plt\n",
    "import numpy as np\n",
    "from model_hpc import get_data, accuracy_score\n",
    "import pandas as pd\n",
    "from sklearn.tree import DecisionTreeRegressor\n",
    "from sklearn.metrics import make_scorer\n",
    "import numpy as np\n",
    "import matplotlib.pyplot as plt\n",
    "import scipy.linalg as lng\n",
    "import scipy.io as io\n",
    "from sklearn.ensemble import BaggingClassifier, AdaBoostRegressor\n",
    "from sklearn.cluster import KMeans\n",
    "from sklearn.neighbors import KNeighborsClassifier\n",
    "from sklearn.tree import DecisionTreeClassifier, DecisionTreeRegressor\n",
    "from sklearn.model_selection import GridSearchCV\n",
    "from pathlib import Path\n",
    "import pandas as pd\n",
    "import seaborn as sns\n",
    "from sklearn.metrics import make_scorer\n",
    "from sklearn.model_selection import TimeSeriesSplit\n",
    "# import pickle\n",
    "import os\n",
    "# from sklearn.externals import joblib\n",
    "import joblib\n",
    "import dill as pickle\n",
    "\n",
    "plt.style.use(\"seaborn\")"
   ]
  },
  {
   "cell_type": "code",
   "execution_count": 14,
   "metadata": {},
   "outputs": [
    {
     "data": {
      "text/plain": [
       "AdaBoostRegressor(base_estimator=DecisionTreeRegressor(max_depth=24),\n",
       "                  learning_rate=1, n_estimators=400)"
      ]
     },
     "execution_count": 14,
     "metadata": {},
     "output_type": "execute_result"
    }
   ],
   "source": [
    "X, X_train, X_val, y, y_train, y_val = get_data(test = False)\n",
    "boost = AdaBoostRegressor(DecisionTreeRegressor(max_depth = 24), learning_rate= 1, n_estimators=400)\n",
    "boost.fit(X_train, y_train)"
   ]
  },
  {
   "cell_type": "code",
   "execution_count": 15,
   "metadata": {},
   "outputs": [
    {
     "data": {
      "text/plain": [
       "64.47760642918159"
      ]
     },
     "execution_count": 15,
     "metadata": {},
     "output_type": "execute_result"
    }
   ],
   "source": [
    "def relative_difference(y,y_hat):\n",
    "    return (y-y_hat)/y\n",
    "def accuracy(y,y_hat):\n",
    "    return (1-np.abs(relative_difference(y,y_hat)))*100\n",
    "\n",
    "def accuracy_score(y_true, y_pred, inv_trns = lambda x: x):\n",
    "    return accuracy(y_true,inv_trns(y_pred)).mean()\n",
    "\n",
    "accuracy_score(y_val, boost.predict(X_val))"
   ]
  },
  {
   "cell_type": "code",
   "execution_count": 11,
   "metadata": {},
   "outputs": [
    {
     "data": {
      "text/plain": [
       "63.531003966971305"
      ]
     },
     "execution_count": 11,
     "metadata": {},
     "output_type": "execute_result"
    }
   ],
   "source": []
  },
  {
   "cell_type": "markdown",
   "metadata": {},
   "source": [
    "## Prediction data"
   ]
  },
  {
   "cell_type": "code",
   "execution_count": 6,
   "metadata": {},
   "outputs": [],
   "source": [
    "X, X_train, X_val, y, y_train, y_val = get_data(test = True)\n",
    "X_train.shape, X_val.shape, X.shape\n",
    "predictions = boost.predict(X_val)"
   ]
  },
  {
   "cell_type": "code",
   "execution_count": 8,
   "metadata": {},
   "outputs": [
    {
     "data": {
      "text/plain": [
       "(array([1.35992603, 0.57203238, 0.6259977 , 0.41013642, 0.7447214 ,\n",
       "        0.31299885, 0.33458498, 0.32379191, 0.65837689, 0.49648093,\n",
       "        0.80947978, 1.15485782, 1.09009943, 0.84185897, 1.11168556,\n",
       "        0.97137573, 1.00375493, 0.88503122, 0.69075608, 1.09009943,\n",
       "        0.7447214 , 0.7123422 , 0.78789365, 1.09009943, 1.58658037,\n",
       "        0.9821688 , 0.84185897, 0.90661735, 1.09009943, 1.18723701,\n",
       "        1.24120233, 1.51102892, 1.82402777, 1.2196162 , 2.10464742,\n",
       "        1.9643376 , 2.15861274, 1.99671679, 1.79164858, 1.86720002,\n",
       "        2.52557691, 1.58658037, 1.694511  , 1.28437458, 0.7447214 ,\n",
       "        0.28061966, 0.28061966, 0.19427515, 0.2374474 , 0.02158613]),\n",
       " array([0.04285714, 0.06210753, 0.08135791, 0.10060829, 0.11985868,\n",
       "        0.13910906, 0.15835945, 0.17760983, 0.19686022, 0.2161106 ,\n",
       "        0.23536098, 0.25461137, 0.27386175, 0.29311214, 0.31236252,\n",
       "        0.3316129 , 0.35086329, 0.37011367, 0.38936406, 0.40861444,\n",
       "        0.42786482, 0.44711521, 0.46636559, 0.48561598, 0.50486636,\n",
       "        0.52411674, 0.54336713, 0.56261751, 0.5818679 , 0.60111828,\n",
       "        0.62036866, 0.63961905, 0.65886943, 0.67811982, 0.6973702 ,\n",
       "        0.71662058, 0.73587097, 0.75512135, 0.77437174, 0.79362212,\n",
       "        0.8128725 , 0.83212289, 0.85137327, 0.87062366, 0.88987404,\n",
       "        0.90912442, 0.92837481, 0.94762519, 0.96687558, 0.98612596,\n",
       "        1.00537634]),\n",
       " <BarContainer object of 50 artists>)"
      ]
     },
     "execution_count": 8,
     "metadata": {},
     "output_type": "execute_result"
    },
    {
     "data": {
      "image/png": "[encoded data removed]",
      "text/plain": [
       "<Figure size 576x396 with 1 Axes>"
      ]
     },
     "metadata": {},
     "output_type": "display_data"
    }
   ],
   "source": [
    "plt.hist(predictions, bins = 50, density = True)"
   ]
  },
  {
   "cell_type": "code",
   "execution_count": 17,
   "metadata": {},
   "outputs": [],
   "source": [
    "data = pd.read_excel(\"Future Schedule 20220301-20220331.xlsx\",engine='openpyxl')\n"
   ]
  },
  {
   "cell_type": "code",
   "execution_count": 21,
   "metadata": {},
   "outputs": [],
   "source": [
    "data[\"LoadFactor\"] = predictions\n",
    "data.to_excel(\"predictions.xlsx\")"
   ]
  }
 ],
 "metadata": {
  "interpreter": {
   "hash": "e38ab2686cf4e4ddab8432e41df36720a6f757d1a1adbf4b6047dc7b5644f1c8"
  },
  "kernelspec": {
   "display_name": "Python 3.8.5 ('CDA-case-env': venv)",
   "language": "python",
   "name": "python3"
  },
  "language_info": {
   "codemirror_mode": {
    "name": "ipython",
    "version": 3
   },
   "file_extension": ".py",
   "mimetype": "text/x-python",
   "name": "python",
   "nbconvert_exporter": "python",
   "pygments_lexer": "ipython3",
   "version": "3.8.5"
  },
  "orig_nbformat": 4
 },
 "nbformat": 4,
 "nbformat_minor": 2
}
